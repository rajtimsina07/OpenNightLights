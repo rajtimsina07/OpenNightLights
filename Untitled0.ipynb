{
  "nbformat": 4,
  "nbformat_minor": 0,
  "metadata": {
    "colab": {
      "name": "Untitled0.ipynb",
      "provenance": [],
      "authorship_tag": "ABX9TyP6T3ghho51QgwWBPwtGs1H",
      "include_colab_link": true
    },
    "kernelspec": {
      "name": "python3",
      "display_name": "Python 3"
    },
    "language_info": {
      "name": "python"
    },
    "accelerator": "GPU"
  },
  "cells": [
    {
      "cell_type": "markdown",
      "metadata": {
        "id": "view-in-github",
        "colab_type": "text"
      },
      "source": [
        "<a href=\"https://colab.research.google.com/github/rajtimsina07/OpenNightLights/blob/master/Untitled0.ipynb\" target=\"_parent\"><img src=\"https://colab.research.google.com/assets/colab-badge.svg\" alt=\"Open In Colab\"/></a>"
      ]
    },
    {
      "cell_type": "code",
      "source": [
        "!git clone https://github.com/worldbank/OpenNightLights.git"
      ],
      "metadata": {
        "colab": {
          "base_uri": "https://localhost:8080/"
        },
        "id": "liZZcq-NKhbY",
        "outputId": "3b99cc52-a5a7-4b5b-e5aa-b98297714532"
      },
      "execution_count": 8,
      "outputs": [
        {
          "output_type": "stream",
          "name": "stdout",
          "text": [
            "Cloning into 'OpenNightLights'...\n",
            "remote: Enumerating objects: 2315, done.\u001b[K\n",
            "remote: Counting objects: 100% (745/745), done.\u001b[K\n",
            "remote: Compressing objects: 100% (420/420), done.\u001b[K\n",
            "remote: Total 2315 (delta 526), reused 522 (delta 325), pack-reused 1570\u001b[K\n",
            "Receiving objects: 100% (2315/2315), 28.28 MiB | 27.32 MiB/s, done.\n",
            "Resolving deltas: 100% (1513/1513), done.\n"
          ]
        }
      ]
    },
    {
      "cell_type": "code",
      "source": [
        "!ls\n"
      ],
      "metadata": {
        "colab": {
          "base_uri": "https://localhost:8080/"
        },
        "id": "mG5hL9ATLLio",
        "outputId": "6b3a6116-b59c-4de0-a7d2-54839bd79ff2"
      },
      "execution_count": 9,
      "outputs": [
        {
          "output_type": "stream",
          "name": "stdout",
          "text": [
            "docs  LICENSE  onl  OpenNightLights  README.md\trequirements.txt  scripts\n"
          ]
        }
      ]
    },
    {
      "cell_type": "code",
      "source": [
        "cd onl"
      ],
      "metadata": {
        "colab": {
          "base_uri": "https://localhost:8080/"
        },
        "id": "pH9yMksPLOfb",
        "outputId": "9c16a33c-c534-4d42-d7c6-c7239610a8e7"
      },
      "execution_count": 11,
      "outputs": [
        {
          "output_type": "stream",
          "name": "stdout",
          "text": [
            "/content/OpenNightLights/onl\n"
          ]
        }
      ]
    },
    {
      "cell_type": "code",
      "source": [
        "cd tutorials/"
      ],
      "metadata": {
        "colab": {
          "base_uri": "https://localhost:8080/"
        },
        "id": "mhTnbIxGLWD2",
        "outputId": "67c3d7da-f966-43a8-b2d7-01eebec73868"
      },
      "execution_count": 12,
      "outputs": [
        {
          "output_type": "stream",
          "name": "stdout",
          "text": [
            "/content/OpenNightLights/onl/tutorials\n"
          ]
        }
      ]
    },
    {
      "cell_type": "code",
      "source": [
        "cd files"
      ],
      "metadata": {
        "colab": {
          "base_uri": "https://localhost:8080/"
        },
        "id": "QHXB4KX7LnKi",
        "outputId": "dd830dd8-bcf5-41e9-8726-383c99c5ab02"
      },
      "execution_count": 13,
      "outputs": [
        {
          "output_type": "stream",
          "name": "stdout",
          "text": [
            "/content/OpenNightLights/onl/tutorials/files\n"
          ]
        }
      ]
    },
    {
      "cell_type": "code",
      "source": [
        "cd Elvidge_DMSP_intercalib_coef.csv"
      ],
      "metadata": {
        "colab": {
          "base_uri": "https://localhost:8080/"
        },
        "id": "9Aw2_2JBLqOX",
        "outputId": "a6f2ba50-6acc-4794-ead2-a279ab05c7e3"
      },
      "execution_count": 14,
      "outputs": [
        {
          "output_type": "stream",
          "name": "stdout",
          "text": [
            "[Errno 20] Not a directory: 'Elvidge_DMSP_intercalib_coef.csv'\n",
            "/content/OpenNightLights/onl/tutorials/files\n"
          ]
        }
      ]
    },
    {
      "cell_type": "code",
      "source": [
        "!ls\n"
      ],
      "metadata": {
        "colab": {
          "base_uri": "https://localhost:8080/"
        },
        "id": "izKJJ7HILvqD",
        "outputId": "a5e35da4-77f3-42a2-a15c-856d1e9b4172"
      },
      "execution_count": 15,
      "outputs": [
        {
          "output_type": "stream",
          "name": "stdout",
          "text": [
            "city_of_sydney_shapefile  Elvidge_DMSP_intercalib_coef.csv\n"
          ]
        }
      ]
    },
    {
      "cell_type": "code",
      "source": [
        ""
      ],
      "metadata": {
        "id": "jvCLEfdlLzUO"
      },
      "execution_count": null,
      "outputs": []
    }
  ]
}